{
 "cells": [
  {
   "cell_type": "code",
   "execution_count": 4,
   "id": "4c33e10c",
   "metadata": {},
   "outputs": [],
   "source": [
    "# Imports\n",
    "import numpy as np\n",
    "import matplotlib.pyplot as plt"
   ]
  },
  {
   "cell_type": "code",
   "execution_count": 5,
   "id": "51ad59bf",
   "metadata": {},
   "outputs": [
    {
     "name": "stdout",
     "output_type": "stream",
     "text": [
      "0.15 0.001 0.02 -0.06 -0.07 -0.05 100000000.0 2.5e-10\n"
     ]
    }
   ],
   "source": [
    "t_max = 150e-3   # second\n",
    "dt = 1e-3        # second\n",
    "tau = 20e-3      # second\n",
    "el = -60e-3      # milivolt\n",
    "vr = -70e-3      # milivolt\n",
    "vth = -50e-3     # milivolt\n",
    "r = 100e6        # ohm\n",
    "i_mean = 25e-11  # ampere\n",
    "\n",
    "print(t_max, dt, tau, el, vr, vth, r, i_mean)"
   ]
  },
  {
   "cell_type": "code",
   "execution_count": 6,
   "id": "5e53518c",
   "metadata": {},
   "outputs": [
    {
     "name": "stdout",
     "output_type": "stream",
     "text": [
      "2.5e-10\n",
      "3.969463130731183e-10\n",
      "4.877641290737885e-10\n",
      "4.877641290737885e-10\n",
      "3.9694631307311837e-10\n",
      "2.5000000000000007e-10\n",
      "1.0305368692688166e-10\n",
      "1.2235870926211617e-11\n",
      "1.223587092621159e-11\n",
      "1.0305368692688186e-10\n"
     ]
    }
   ],
   "source": [
    "# Loop for 10 steps, variable 'step' takes values from 0 to 9\n",
    "for step in range(10):\n",
    "\n",
    "  # Compute value of t\n",
    "  t = step * dt\n",
    "\n",
    "  # Compute value of i at this time step\n",
    "  i = i_mean * (1 + np.sin((2 * np.pi) / 0.01 * t))\n",
    "\n",
    "  # Print value of i\n",
    "  print(i)"
   ]
  },
  {
   "cell_type": "code",
   "execution_count": 10,
   "id": "48307af7",
   "metadata": {},
   "outputs": [
    {
     "name": "stdout",
     "output_type": "stream",
     "text": [
      "0.000 2.5000e-10\n",
      "0.001 3.9695e-10\n",
      "0.002 4.8776e-10\n",
      "0.003 4.8776e-10\n",
      "0.004 3.9695e-10\n",
      "0.005 2.5000e-10\n",
      "0.006 1.0305e-10\n",
      "0.007 1.2236e-11\n",
      "0.008 1.2236e-11\n",
      "0.009 1.0305e-10\n"
     ]
    }
   ],
   "source": [
    "# Initialize step_end\n",
    "step_end = 10\n",
    "\n",
    "# Loop for step_end steps\n",
    "for step in range(step_end):\n",
    "\n",
    "  # Compute value of t\n",
    "  t = step * dt\n",
    "\n",
    "  # Compute value of i at this time step\n",
    "  i = i_mean * (1 + np.sin((t * 2 * np.pi) / 0.01))\n",
    "\n",
    "  # Print value of t and i\n",
    "  print(f'{t:.3f} {i:.4e}')"
   ]
  },
  {
   "cell_type": "code",
   "execution_count": null,
   "id": "43588ee9",
   "metadata": {},
   "outputs": [],
   "source": []
  }
 ],
 "metadata": {
  "kernelspec": {
   "display_name": "DataAnalysis_3.11",
   "language": "python",
   "name": "python3"
  },
  "language_info": {
   "codemirror_mode": {
    "name": "ipython",
    "version": 3
   },
   "file_extension": ".py",
   "mimetype": "text/x-python",
   "name": "python",
   "nbconvert_exporter": "python",
   "pygments_lexer": "ipython3",
   "version": "3.11.9"
  }
 },
 "nbformat": 4,
 "nbformat_minor": 5
}
